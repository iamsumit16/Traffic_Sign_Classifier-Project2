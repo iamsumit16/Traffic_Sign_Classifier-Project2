{
 "cells": [
  {
   "cell_type": "code",
   "execution_count": 6,
   "metadata": {},
   "outputs": [],
   "source": [
    "from PIL import Image\n",
    "import os, sys\n",
    "\n",
    "\n",
    "\n",
    "def cmp(a, b):\n",
    "    return (a > b) - (a < b)\n",
    "\n",
    "def resizeImage(infile, output_dir=\"\", size=(32,32)):\n",
    "     outfile = os.path.splitext(infile)[0]+\"_resized\"\n",
    "     extension = os.path.splitext(infile)[1]\n",
    "\n",
    "     if (cmp(extension, \".jpeg\")):\n",
    "        return\n",
    "\n",
    "     if infile != outfile:\n",
    "        try :\n",
    "            im = Image.open(infile)\n",
    "            im.thumbnail(size, Image.ANTIALIAS)\n",
    "            im.save(output_dir+outfile+extension,\"JPEG\")\n",
    "        except IOError:\n",
    "            print (\"cannot reduce image for \"), infile\n",
    "\n",
    "\n",
    "if __name__==\"__main__\":\n",
    "    output_dir = \"resized\"\n",
    "    dir = os.getcwd()\n",
    "\n",
    "    if not os.path.exists(os.path.join(dir,output_dir)):\n",
    "        os.mkdir(output_dir)\n",
    "\n",
    "    for file in os.listdir(dir):\n",
    "        resizeImage(file,output_dir)"
   ]
  },
  {
   "cell_type": "code",
   "execution_count": null,
   "metadata": {},
   "outputs": [],
   "source": []
  }
 ],
 "metadata": {
  "kernelspec": {
   "display_name": "Python 3",
   "language": "python",
   "name": "python3"
  },
  "language_info": {
   "codemirror_mode": {
    "name": "ipython",
    "version": 3
   },
   "file_extension": ".py",
   "mimetype": "text/x-python",
   "name": "python",
   "nbconvert_exporter": "python",
   "pygments_lexer": "ipython3",
   "version": "3.5.2"
  },
  "widgets": {
   "state": {},
   "version": "1.1.2"
  }
 },
 "nbformat": 4,
 "nbformat_minor": 2
}
